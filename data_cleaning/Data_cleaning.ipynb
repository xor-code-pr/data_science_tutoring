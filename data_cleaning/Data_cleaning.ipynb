{
 "cells": [
  {
   "cell_type": "markdown",
   "id": "ef982d0b-8241-4b60-85b8-92024f517cc8",
   "metadata": {},
   "source": [
    "### Data Cleaning\n"
   ]
  },
  {
   "cell_type": "code",
   "execution_count": 1,
   "id": "c5efe790-4329-4be2-92dd-8963f3e2519c",
   "metadata": {},
   "outputs": [
    {
     "name": "stdout",
     "output_type": "stream",
     "text": [
      "                                   Name   Age  Gender   Salary   Join_Date  \\\n",
      "0                    John Doe    \\n\\n\\n  25.0  Female    50000  15-01-2020   \n",
      "1                            Jane Smith   NaN  Female    60000  10-03-2022   \n",
      "2  Alice \\n\\nJohnson                     32.0     NaN    75000  20-07-2021   \n",
      "3             Bob    \\n\\n\\n       Brown  45.0    Male  $80,000  02-05-2019   \n",
      "4                            Ella Davis  28.0  Femule    90000  30-01-2023   \n",
      "5                    John Doe    \\n\\n\\n  25.0  Female    50000  15-01-2020   \n",
      "\n",
      "                                         Description  \n",
      "0  Data Scientist with a background in machine le...  \n",
      "1  Software Engineer passionate about web develop...  \n",
      "2                                                NaN  \n",
      "3  Marketing Manager with experience in digital m...  \n",
      "4                     Experienced Financial Analyst.  \n",
      "5  Data Scientist with a background in machine le...  \n"
     ]
    }
   ],
   "source": [
    "#Read CSV\n",
    "import pandas as pd\n",
    "data = pd.read_csv('sample_data.csv')\n",
    "print(data)"
   ]
  },
  {
   "cell_type": "markdown",
   "id": "d4c21b88-b80b-4f01-91cc-230e255800f4",
   "metadata": {},
   "source": [
    "#### Removing Leading and Trailing Whitespaces:"
   ]
  },
  {
   "cell_type": "code",
   "execution_count": 2,
   "id": "28e9cd7c-8b7e-4fe8-bad3-4544524ddf60",
   "metadata": {},
   "outputs": [
    {
     "name": "stdout",
     "output_type": "stream",
     "text": [
      "                        Name   Age  Gender   Salary   Join_Date  \\\n",
      "0                   John Doe  25.0  Female    50000  15-01-2020   \n",
      "1                 Jane Smith   NaN  Female    60000  10-03-2022   \n",
      "2          Alice \\n\\nJohnson  32.0     NaN    75000  20-07-2021   \n",
      "3  Bob    \\n\\n\\n       Brown  45.0    Male  $80,000  02-05-2019   \n",
      "4                 Ella Davis  28.0  Femule    90000  30-01-2023   \n",
      "5                   John Doe  25.0  Female    50000  15-01-2020   \n",
      "\n",
      "                                         Description  \n",
      "0  Data Scientist with a background in machine le...  \n",
      "1  Software Engineer passionate about web develop...  \n",
      "2                                                NaN  \n",
      "3  Marketing Manager with experience in digital m...  \n",
      "4                     Experienced Financial Analyst.  \n",
      "5  Data Scientist with a background in machine le...  \n"
     ]
    }
   ],
   "source": [
    "data['Name'] = data['Name'].str.strip()\n",
    "print(data)"
   ]
  },
  {
   "cell_type": "markdown",
   "id": "ee231a90-f3c2-42ef-9944-cefb93f7e45b",
   "metadata": {},
   "source": [
    "#### Addressing Inconsistent Formatting:"
   ]
  },
  {
   "cell_type": "code",
   "execution_count": 3,
   "id": "2cc58973-9ea5-4cdb-8469-e5997d7b953f",
   "metadata": {},
   "outputs": [
    {
     "name": "stdout",
     "output_type": "stream",
     "text": [
      "            Name   Age  Gender   Salary   Join_Date  \\\n",
      "0       John Doe  25.0  female    50000  15-01-2020   \n",
      "1     Jane Smith   NaN  female    60000  10-03-2022   \n",
      "2  Alice Johnson  32.0     NaN    75000  20-07-2021   \n",
      "3      Bob Brown  45.0    male  $80,000  02-05-2019   \n",
      "4     Ella Davis  28.0  femule    90000  30-01-2023   \n",
      "5       John Doe  25.0  female    50000  15-01-2020   \n",
      "\n",
      "                                         Description  \n",
      "0  data scientist with a background in machine le...  \n",
      "1  software engineer passionate about web develop...  \n",
      "2                                                NaN  \n",
      "3  marketing manager with experience in digital m...  \n",
      "4                     experienced financial analyst.  \n",
      "5  data scientist with a background in machine le...  \n"
     ]
    }
   ],
   "source": [
    "# Remove leading and trailing spaces\n",
    "data['Name'] = data['Name'].str.replace(\"\\n\",\"\")\n",
    "data['Name'] = data['Name'].str.replace(\"\\s+\",\" \", regex=True)\n",
    "\n",
    "\n",
    "# Convert strings to lowercase\n",
    "data['Description'] = data['Description'].str.lower()\n",
    "data['Gender'] = data['Gender'].str.lower()\n",
    "print(data)"
   ]
  },
  {
   "cell_type": "code",
   "execution_count": 4,
   "id": "b899642a-0125-4515-9a29-4ed363cbd5cf",
   "metadata": {},
   "outputs": [
    {
     "data": {
      "text/plain": [
       "str"
      ]
     },
     "execution_count": 4,
     "metadata": {},
     "output_type": "execute_result"
    }
   ],
   "source": [
    "type(data['Salary'][0])"
   ]
  },
  {
   "cell_type": "code",
   "execution_count": 5,
   "id": "9c9af030-3864-4e03-8bc5-3a762ae39f8c",
   "metadata": {},
   "outputs": [
    {
     "data": {
      "text/html": [
       "<div>\n",
       "<style scoped>\n",
       "    .dataframe tbody tr th:only-of-type {\n",
       "        vertical-align: middle;\n",
       "    }\n",
       "\n",
       "    .dataframe tbody tr th {\n",
       "        vertical-align: top;\n",
       "    }\n",
       "\n",
       "    .dataframe thead th {\n",
       "        text-align: right;\n",
       "    }\n",
       "</style>\n",
       "<table border=\"1\" class=\"dataframe\">\n",
       "  <thead>\n",
       "    <tr style=\"text-align: right;\">\n",
       "      <th></th>\n",
       "      <th>Name</th>\n",
       "      <th>Age</th>\n",
       "      <th>Gender</th>\n",
       "      <th>Salary</th>\n",
       "      <th>Join_Date</th>\n",
       "      <th>Description</th>\n",
       "    </tr>\n",
       "  </thead>\n",
       "  <tbody>\n",
       "    <tr>\n",
       "      <th>0</th>\n",
       "      <td>John Doe</td>\n",
       "      <td>25.0</td>\n",
       "      <td>female</td>\n",
       "      <td>50000.0</td>\n",
       "      <td>15-01-2020</td>\n",
       "      <td>data scientist with a background in machine le...</td>\n",
       "    </tr>\n",
       "    <tr>\n",
       "      <th>1</th>\n",
       "      <td>Jane Smith</td>\n",
       "      <td>NaN</td>\n",
       "      <td>female</td>\n",
       "      <td>60000.0</td>\n",
       "      <td>10-03-2022</td>\n",
       "      <td>software engineer passionate about web develop...</td>\n",
       "    </tr>\n",
       "    <tr>\n",
       "      <th>2</th>\n",
       "      <td>Alice Johnson</td>\n",
       "      <td>32.0</td>\n",
       "      <td>NaN</td>\n",
       "      <td>75000.0</td>\n",
       "      <td>20-07-2021</td>\n",
       "      <td>NaN</td>\n",
       "    </tr>\n",
       "    <tr>\n",
       "      <th>3</th>\n",
       "      <td>Bob Brown</td>\n",
       "      <td>45.0</td>\n",
       "      <td>male</td>\n",
       "      <td>80000.0</td>\n",
       "      <td>02-05-2019</td>\n",
       "      <td>marketing manager with experience in digital m...</td>\n",
       "    </tr>\n",
       "    <tr>\n",
       "      <th>4</th>\n",
       "      <td>Ella Davis</td>\n",
       "      <td>28.0</td>\n",
       "      <td>femule</td>\n",
       "      <td>90000.0</td>\n",
       "      <td>30-01-2023</td>\n",
       "      <td>experienced financial analyst.</td>\n",
       "    </tr>\n",
       "    <tr>\n",
       "      <th>5</th>\n",
       "      <td>John Doe</td>\n",
       "      <td>25.0</td>\n",
       "      <td>female</td>\n",
       "      <td>50000.0</td>\n",
       "      <td>15-01-2020</td>\n",
       "      <td>data scientist with a background in machine le...</td>\n",
       "    </tr>\n",
       "  </tbody>\n",
       "</table>\n",
       "</div>"
      ],
      "text/plain": [
       "            Name   Age  Gender   Salary   Join_Date  \\\n",
       "0       John Doe  25.0  female  50000.0  15-01-2020   \n",
       "1     Jane Smith   NaN  female  60000.0  10-03-2022   \n",
       "2  Alice Johnson  32.0     NaN  75000.0  20-07-2021   \n",
       "3      Bob Brown  45.0    male  80000.0  02-05-2019   \n",
       "4     Ella Davis  28.0  femule  90000.0  30-01-2023   \n",
       "5       John Doe  25.0  female  50000.0  15-01-2020   \n",
       "\n",
       "                                         Description  \n",
       "0  data scientist with a background in machine le...  \n",
       "1  software engineer passionate about web develop...  \n",
       "2                                                NaN  \n",
       "3  marketing manager with experience in digital m...  \n",
       "4                     experienced financial analyst.  \n",
       "5  data scientist with a background in machine le...  "
      ]
     },
     "execution_count": 5,
     "metadata": {},
     "output_type": "execute_result"
    }
   ],
   "source": [
    "# remove currency symbols and punctuations\n",
    "data['Salary'] = data['Salary'].str.replace('$', '').str.replace(',', '').astype(float)\n",
    "data"
   ]
  },
  {
   "cell_type": "code",
   "execution_count": 6,
   "id": "f59b27e1-d776-4eb3-a8e1-46ca6d8229a4",
   "metadata": {},
   "outputs": [
    {
     "data": {
      "text/plain": [
       "numpy.float64"
      ]
     },
     "execution_count": 6,
     "metadata": {},
     "output_type": "execute_result"
    }
   ],
   "source": [
    "type(data['Salary'][0])"
   ]
  },
  {
   "cell_type": "markdown",
   "id": "cd10cce8-d00d-4f0a-b7b9-6dc71a7ae761",
   "metadata": {},
   "source": [
    "#### Remove duplicates"
   ]
  },
  {
   "cell_type": "code",
   "execution_count": 7,
   "id": "9cc86c5a-099f-4283-a903-96e031f10d70",
   "metadata": {
    "scrolled": true
   },
   "outputs": [
    {
     "data": {
      "text/html": [
       "<div>\n",
       "<style scoped>\n",
       "    .dataframe tbody tr th:only-of-type {\n",
       "        vertical-align: middle;\n",
       "    }\n",
       "\n",
       "    .dataframe tbody tr th {\n",
       "        vertical-align: top;\n",
       "    }\n",
       "\n",
       "    .dataframe thead th {\n",
       "        text-align: right;\n",
       "    }\n",
       "</style>\n",
       "<table border=\"1\" class=\"dataframe\">\n",
       "  <thead>\n",
       "    <tr style=\"text-align: right;\">\n",
       "      <th></th>\n",
       "      <th>Name</th>\n",
       "      <th>Age</th>\n",
       "      <th>Gender</th>\n",
       "      <th>Salary</th>\n",
       "      <th>Join_Date</th>\n",
       "      <th>Description</th>\n",
       "    </tr>\n",
       "  </thead>\n",
       "  <tbody>\n",
       "    <tr>\n",
       "      <th>0</th>\n",
       "      <td>John Doe</td>\n",
       "      <td>25.0</td>\n",
       "      <td>female</td>\n",
       "      <td>50000.0</td>\n",
       "      <td>15-01-2020</td>\n",
       "      <td>data scientist with a background in machine le...</td>\n",
       "    </tr>\n",
       "    <tr>\n",
       "      <th>1</th>\n",
       "      <td>Jane Smith</td>\n",
       "      <td>NaN</td>\n",
       "      <td>female</td>\n",
       "      <td>60000.0</td>\n",
       "      <td>10-03-2022</td>\n",
       "      <td>software engineer passionate about web develop...</td>\n",
       "    </tr>\n",
       "    <tr>\n",
       "      <th>2</th>\n",
       "      <td>Alice Johnson</td>\n",
       "      <td>32.0</td>\n",
       "      <td>NaN</td>\n",
       "      <td>75000.0</td>\n",
       "      <td>20-07-2021</td>\n",
       "      <td>NaN</td>\n",
       "    </tr>\n",
       "    <tr>\n",
       "      <th>3</th>\n",
       "      <td>Bob Brown</td>\n",
       "      <td>45.0</td>\n",
       "      <td>male</td>\n",
       "      <td>80000.0</td>\n",
       "      <td>02-05-2019</td>\n",
       "      <td>marketing manager with experience in digital m...</td>\n",
       "    </tr>\n",
       "    <tr>\n",
       "      <th>4</th>\n",
       "      <td>Ella Davis</td>\n",
       "      <td>28.0</td>\n",
       "      <td>femule</td>\n",
       "      <td>90000.0</td>\n",
       "      <td>30-01-2023</td>\n",
       "      <td>experienced financial analyst.</td>\n",
       "    </tr>\n",
       "  </tbody>\n",
       "</table>\n",
       "</div>"
      ],
      "text/plain": [
       "            Name   Age  Gender   Salary   Join_Date  \\\n",
       "0       John Doe  25.0  female  50000.0  15-01-2020   \n",
       "1     Jane Smith   NaN  female  60000.0  10-03-2022   \n",
       "2  Alice Johnson  32.0     NaN  75000.0  20-07-2021   \n",
       "3      Bob Brown  45.0    male  80000.0  02-05-2019   \n",
       "4     Ella Davis  28.0  femule  90000.0  30-01-2023   \n",
       "\n",
       "                                         Description  \n",
       "0  data scientist with a background in machine le...  \n",
       "1  software engineer passionate about web develop...  \n",
       "2                                                NaN  \n",
       "3  marketing manager with experience in digital m...  \n",
       "4                     experienced financial analyst.  "
      ]
     },
     "execution_count": 7,
     "metadata": {},
     "output_type": "execute_result"
    }
   ],
   "source": [
    "data = data.drop_duplicates()\n",
    "data"
   ]
  },
  {
   "cell_type": "markdown",
   "id": "9f9f6652-975f-4510-9077-8b2015f08a06",
   "metadata": {},
   "source": [
    "#### Handle Missing Values"
   ]
  },
  {
   "cell_type": "code",
   "execution_count": 8,
   "id": "9f87dd70-6657-4269-b6d5-e30ccbd9626b",
   "metadata": {},
   "outputs": [
    {
     "name": "stdout",
     "output_type": "stream",
     "text": [
      "Name           0\n",
      "Age            1\n",
      "Gender         1\n",
      "Salary         0\n",
      "Join_Date      0\n",
      "Description    1\n",
      "dtype: int64\n"
     ]
    }
   ],
   "source": [
    "# Check for missing values\n",
    "print(data.isnull().sum())"
   ]
  },
  {
   "cell_type": "code",
   "execution_count": 9,
   "id": "6997c7a2-f397-4a17-8b79-14bb31639877",
   "metadata": {},
   "outputs": [
    {
     "data": {
      "text/html": [
       "<div>\n",
       "<style scoped>\n",
       "    .dataframe tbody tr th:only-of-type {\n",
       "        vertical-align: middle;\n",
       "    }\n",
       "\n",
       "    .dataframe tbody tr th {\n",
       "        vertical-align: top;\n",
       "    }\n",
       "\n",
       "    .dataframe thead th {\n",
       "        text-align: right;\n",
       "    }\n",
       "</style>\n",
       "<table border=\"1\" class=\"dataframe\">\n",
       "  <thead>\n",
       "    <tr style=\"text-align: right;\">\n",
       "      <th></th>\n",
       "      <th>Name</th>\n",
       "      <th>Age</th>\n",
       "      <th>Gender</th>\n",
       "      <th>Salary</th>\n",
       "      <th>Join_Date</th>\n",
       "      <th>Description</th>\n",
       "    </tr>\n",
       "  </thead>\n",
       "  <tbody>\n",
       "    <tr>\n",
       "      <th>0</th>\n",
       "      <td>John Doe</td>\n",
       "      <td>25.0</td>\n",
       "      <td>female</td>\n",
       "      <td>50000.0</td>\n",
       "      <td>15-01-2020</td>\n",
       "      <td>data scientist with a background in machine le...</td>\n",
       "    </tr>\n",
       "    <tr>\n",
       "      <th>3</th>\n",
       "      <td>Bob Brown</td>\n",
       "      <td>45.0</td>\n",
       "      <td>male</td>\n",
       "      <td>80000.0</td>\n",
       "      <td>02-05-2019</td>\n",
       "      <td>marketing manager with experience in digital m...</td>\n",
       "    </tr>\n",
       "    <tr>\n",
       "      <th>4</th>\n",
       "      <td>Ella Davis</td>\n",
       "      <td>28.0</td>\n",
       "      <td>femule</td>\n",
       "      <td>90000.0</td>\n",
       "      <td>30-01-2023</td>\n",
       "      <td>experienced financial analyst.</td>\n",
       "    </tr>\n",
       "  </tbody>\n",
       "</table>\n",
       "</div>"
      ],
      "text/plain": [
       "         Name   Age  Gender   Salary   Join_Date  \\\n",
       "0    John Doe  25.0  female  50000.0  15-01-2020   \n",
       "3   Bob Brown  45.0    male  80000.0  02-05-2019   \n",
       "4  Ella Davis  28.0  femule  90000.0  30-01-2023   \n",
       "\n",
       "                                         Description  \n",
       "0  data scientist with a background in machine le...  \n",
       "3  marketing manager with experience in digital m...  \n",
       "4                     experienced financial analyst.  "
      ]
     },
     "execution_count": 9,
     "metadata": {},
     "output_type": "execute_result"
    }
   ],
   "source": [
    "# Drop rows with any missing values\n",
    "data_cleaned = data.dropna()\n",
    "data_cleaned"
   ]
  },
  {
   "cell_type": "code",
   "execution_count": 10,
   "id": "f603b33f-5175-482c-b677-0e1b72fbe3d2",
   "metadata": {},
   "outputs": [
    {
     "data": {
      "text/html": [
       "<div>\n",
       "<style scoped>\n",
       "    .dataframe tbody tr th:only-of-type {\n",
       "        vertical-align: middle;\n",
       "    }\n",
       "\n",
       "    .dataframe tbody tr th {\n",
       "        vertical-align: top;\n",
       "    }\n",
       "\n",
       "    .dataframe thead th {\n",
       "        text-align: right;\n",
       "    }\n",
       "</style>\n",
       "<table border=\"1\" class=\"dataframe\">\n",
       "  <thead>\n",
       "    <tr style=\"text-align: right;\">\n",
       "      <th></th>\n",
       "      <th>Name</th>\n",
       "      <th>Age</th>\n",
       "      <th>Gender</th>\n",
       "      <th>Salary</th>\n",
       "      <th>Join_Date</th>\n",
       "      <th>Description</th>\n",
       "    </tr>\n",
       "  </thead>\n",
       "  <tbody>\n",
       "    <tr>\n",
       "      <th>0</th>\n",
       "      <td>John Doe</td>\n",
       "      <td>25.0</td>\n",
       "      <td>female</td>\n",
       "      <td>50000.0</td>\n",
       "      <td>15-01-2020</td>\n",
       "      <td>data scientist with a background in machine le...</td>\n",
       "    </tr>\n",
       "    <tr>\n",
       "      <th>1</th>\n",
       "      <td>Jane Smith</td>\n",
       "      <td>0.0</td>\n",
       "      <td>female</td>\n",
       "      <td>60000.0</td>\n",
       "      <td>10-03-2022</td>\n",
       "      <td>software engineer passionate about web develop...</td>\n",
       "    </tr>\n",
       "    <tr>\n",
       "      <th>2</th>\n",
       "      <td>Alice Johnson</td>\n",
       "      <td>32.0</td>\n",
       "      <td>0</td>\n",
       "      <td>75000.0</td>\n",
       "      <td>20-07-2021</td>\n",
       "      <td>0</td>\n",
       "    </tr>\n",
       "    <tr>\n",
       "      <th>3</th>\n",
       "      <td>Bob Brown</td>\n",
       "      <td>45.0</td>\n",
       "      <td>male</td>\n",
       "      <td>80000.0</td>\n",
       "      <td>02-05-2019</td>\n",
       "      <td>marketing manager with experience in digital m...</td>\n",
       "    </tr>\n",
       "    <tr>\n",
       "      <th>4</th>\n",
       "      <td>Ella Davis</td>\n",
       "      <td>28.0</td>\n",
       "      <td>femule</td>\n",
       "      <td>90000.0</td>\n",
       "      <td>30-01-2023</td>\n",
       "      <td>experienced financial analyst.</td>\n",
       "    </tr>\n",
       "  </tbody>\n",
       "</table>\n",
       "</div>"
      ],
      "text/plain": [
       "            Name   Age  Gender   Salary   Join_Date  \\\n",
       "0       John Doe  25.0  female  50000.0  15-01-2020   \n",
       "1     Jane Smith   0.0  female  60000.0  10-03-2022   \n",
       "2  Alice Johnson  32.0       0  75000.0  20-07-2021   \n",
       "3      Bob Brown  45.0    male  80000.0  02-05-2019   \n",
       "4     Ella Davis  28.0  femule  90000.0  30-01-2023   \n",
       "\n",
       "                                         Description  \n",
       "0  data scientist with a background in machine le...  \n",
       "1  software engineer passionate about web develop...  \n",
       "2                                                  0  \n",
       "3  marketing manager with experience in digital m...  \n",
       "4                     experienced financial analyst.  "
      ]
     },
     "execution_count": 10,
     "metadata": {},
     "output_type": "execute_result"
    }
   ],
   "source": [
    "# Fill missing values with a specific value\n",
    "data_filled = data.fillna(0)\n",
    "data_filled"
   ]
  },
  {
   "cell_type": "code",
   "execution_count": 11,
   "id": "bba60272-106c-40b7-a733-bdd0dccfa0f9",
   "metadata": {},
   "outputs": [
    {
     "data": {
      "text/html": [
       "<div>\n",
       "<style scoped>\n",
       "    .dataframe tbody tr th:only-of-type {\n",
       "        vertical-align: middle;\n",
       "    }\n",
       "\n",
       "    .dataframe tbody tr th {\n",
       "        vertical-align: top;\n",
       "    }\n",
       "\n",
       "    .dataframe thead th {\n",
       "        text-align: right;\n",
       "    }\n",
       "</style>\n",
       "<table border=\"1\" class=\"dataframe\">\n",
       "  <thead>\n",
       "    <tr style=\"text-align: right;\">\n",
       "      <th></th>\n",
       "      <th>Name</th>\n",
       "      <th>Age</th>\n",
       "      <th>Gender</th>\n",
       "      <th>Salary</th>\n",
       "      <th>Join_Date</th>\n",
       "      <th>Description</th>\n",
       "    </tr>\n",
       "  </thead>\n",
       "  <tbody>\n",
       "    <tr>\n",
       "      <th>0</th>\n",
       "      <td>John Doe</td>\n",
       "      <td>25.0</td>\n",
       "      <td>female</td>\n",
       "      <td>50000.0</td>\n",
       "      <td>15-01-2020</td>\n",
       "      <td>data scientist with a background in machine le...</td>\n",
       "    </tr>\n",
       "    <tr>\n",
       "      <th>1</th>\n",
       "      <td>Jane Smith</td>\n",
       "      <td>28.5</td>\n",
       "      <td>female</td>\n",
       "      <td>60000.0</td>\n",
       "      <td>10-03-2022</td>\n",
       "      <td>software engineer passionate about web develop...</td>\n",
       "    </tr>\n",
       "    <tr>\n",
       "      <th>2</th>\n",
       "      <td>Alice Johnson</td>\n",
       "      <td>32.0</td>\n",
       "      <td>NaN</td>\n",
       "      <td>75000.0</td>\n",
       "      <td>20-07-2021</td>\n",
       "      <td>NaN</td>\n",
       "    </tr>\n",
       "    <tr>\n",
       "      <th>3</th>\n",
       "      <td>Bob Brown</td>\n",
       "      <td>45.0</td>\n",
       "      <td>male</td>\n",
       "      <td>80000.0</td>\n",
       "      <td>02-05-2019</td>\n",
       "      <td>marketing manager with experience in digital m...</td>\n",
       "    </tr>\n",
       "    <tr>\n",
       "      <th>4</th>\n",
       "      <td>Ella Davis</td>\n",
       "      <td>28.0</td>\n",
       "      <td>femule</td>\n",
       "      <td>90000.0</td>\n",
       "      <td>30-01-2023</td>\n",
       "      <td>experienced financial analyst.</td>\n",
       "    </tr>\n",
       "  </tbody>\n",
       "</table>\n",
       "</div>"
      ],
      "text/plain": [
       "            Name   Age  Gender   Salary   Join_Date  \\\n",
       "0       John Doe  25.0  female  50000.0  15-01-2020   \n",
       "1     Jane Smith  28.5  female  60000.0  10-03-2022   \n",
       "2  Alice Johnson  32.0     NaN  75000.0  20-07-2021   \n",
       "3      Bob Brown  45.0    male  80000.0  02-05-2019   \n",
       "4     Ella Davis  28.0  femule  90000.0  30-01-2023   \n",
       "\n",
       "                                         Description  \n",
       "0  data scientist with a background in machine le...  \n",
       "1  software engineer passionate about web develop...  \n",
       "2                                                NaN  \n",
       "3  marketing manager with experience in digital m...  \n",
       "4                     experienced financial analyst.  "
      ]
     },
     "execution_count": 11,
     "metadata": {},
     "output_type": "execute_result"
    }
   ],
   "source": [
    "# Interpolate missing values\n",
    "data_interpolated = data.interpolate()\n",
    "\n",
    "data_interpolated"
   ]
  },
  {
   "cell_type": "code",
   "execution_count": 12,
   "id": "eee23bd7-2754-4772-8b0d-b8b1eeed83d2",
   "metadata": {},
   "outputs": [
    {
     "ename": "TypeError",
     "evalue": "Could not convert ['15-01-202010-03-202220-07-202102-05-201930-01-2023'] to numeric",
     "output_type": "error",
     "traceback": [
      "\u001b[1;31m---------------------------------------------------------------------------\u001b[0m",
      "\u001b[1;31mValueError\u001b[0m                                Traceback (most recent call last)",
      "File \u001b[1;32m~\\Desktop\\freelancing\\ml_mentoring\\session6\\.env\\Lib\\site-packages\\pandas\\core\\nanops.py:1680\u001b[0m, in \u001b[0;36m_ensure_numeric\u001b[1;34m(x)\u001b[0m\n\u001b[0;32m   1679\u001b[0m \u001b[38;5;28;01mtry\u001b[39;00m:\n\u001b[1;32m-> 1680\u001b[0m     x \u001b[38;5;241m=\u001b[39m \u001b[43mx\u001b[49m\u001b[38;5;241;43m.\u001b[39;49m\u001b[43mastype\u001b[49m\u001b[43m(\u001b[49m\u001b[43mnp\u001b[49m\u001b[38;5;241;43m.\u001b[39;49m\u001b[43mcomplex128\u001b[49m\u001b[43m)\u001b[49m\n\u001b[0;32m   1681\u001b[0m \u001b[38;5;28;01mexcept\u001b[39;00m (\u001b[38;5;167;01mTypeError\u001b[39;00m, \u001b[38;5;167;01mValueError\u001b[39;00m):\n",
      "\u001b[1;31mValueError\u001b[0m: complex() arg is a malformed string",
      "\nDuring handling of the above exception, another exception occurred:\n",
      "\u001b[1;31mValueError\u001b[0m                                Traceback (most recent call last)",
      "File \u001b[1;32m~\\Desktop\\freelancing\\ml_mentoring\\session6\\.env\\Lib\\site-packages\\pandas\\core\\nanops.py:1683\u001b[0m, in \u001b[0;36m_ensure_numeric\u001b[1;34m(x)\u001b[0m\n\u001b[0;32m   1682\u001b[0m \u001b[38;5;28;01mtry\u001b[39;00m:\n\u001b[1;32m-> 1683\u001b[0m     x \u001b[38;5;241m=\u001b[39m \u001b[43mx\u001b[49m\u001b[38;5;241;43m.\u001b[39;49m\u001b[43mastype\u001b[49m\u001b[43m(\u001b[49m\u001b[43mnp\u001b[49m\u001b[38;5;241;43m.\u001b[39;49m\u001b[43mfloat64\u001b[49m\u001b[43m)\u001b[49m\n\u001b[0;32m   1684\u001b[0m \u001b[38;5;28;01mexcept\u001b[39;00m \u001b[38;5;167;01mValueError\u001b[39;00m \u001b[38;5;28;01mas\u001b[39;00m err:\n\u001b[0;32m   1685\u001b[0m     \u001b[38;5;66;03m# GH#29941 we get here with object arrays containing strs\u001b[39;00m\n",
      "\u001b[1;31mValueError\u001b[0m: could not convert string to float: '15-01-202010-03-202220-07-202102-05-201930-01-2023'",
      "\nThe above exception was the direct cause of the following exception:\n",
      "\u001b[1;31mTypeError\u001b[0m                                 Traceback (most recent call last)",
      "Cell \u001b[1;32mIn[12], line 2\u001b[0m\n\u001b[0;32m      1\u001b[0m \u001b[38;5;66;03m# Replace missing values with the mean of the column\u001b[39;00m\n\u001b[1;32m----> 2\u001b[0m data_mean_filled \u001b[38;5;241m=\u001b[39m data\u001b[38;5;241m.\u001b[39mfillna(\u001b[43mdata\u001b[49m\u001b[38;5;241;43m.\u001b[39;49m\u001b[43mmean\u001b[49m\u001b[43m(\u001b[49m\u001b[43m)\u001b[49m)\n\u001b[0;32m      3\u001b[0m data_mean_filled\n\u001b[0;32m      4\u001b[0m \u001b[38;5;66;03m# Error.. Why?\u001b[39;00m\n",
      "File \u001b[1;32m~\\Desktop\\freelancing\\ml_mentoring\\session6\\.env\\Lib\\site-packages\\pandas\\core\\generic.py:11556\u001b[0m, in \u001b[0;36mNDFrame._add_numeric_operations.<locals>.mean\u001b[1;34m(self, axis, skipna, numeric_only, **kwargs)\u001b[0m\n\u001b[0;32m  11539\u001b[0m \u001b[38;5;129m@doc\u001b[39m(\n\u001b[0;32m  11540\u001b[0m     _num_doc,\n\u001b[0;32m  11541\u001b[0m     desc\u001b[38;5;241m=\u001b[39m\u001b[38;5;124m\"\u001b[39m\u001b[38;5;124mReturn the mean of the values over the requested axis.\u001b[39m\u001b[38;5;124m\"\u001b[39m,\n\u001b[1;32m   (...)\u001b[0m\n\u001b[0;32m  11554\u001b[0m     \u001b[38;5;241m*\u001b[39m\u001b[38;5;241m*\u001b[39mkwargs,\n\u001b[0;32m  11555\u001b[0m ):\n\u001b[1;32m> 11556\u001b[0m     \u001b[38;5;28;01mreturn\u001b[39;00m \u001b[43mNDFrame\u001b[49m\u001b[38;5;241;43m.\u001b[39;49m\u001b[43mmean\u001b[49m\u001b[43m(\u001b[49m\u001b[38;5;28;43mself\u001b[39;49m\u001b[43m,\u001b[49m\u001b[43m \u001b[49m\u001b[43maxis\u001b[49m\u001b[43m,\u001b[49m\u001b[43m \u001b[49m\u001b[43mskipna\u001b[49m\u001b[43m,\u001b[49m\u001b[43m \u001b[49m\u001b[43mnumeric_only\u001b[49m\u001b[43m,\u001b[49m\u001b[43m \u001b[49m\u001b[38;5;241;43m*\u001b[39;49m\u001b[38;5;241;43m*\u001b[39;49m\u001b[43mkwargs\u001b[49m\u001b[43m)\u001b[49m\n",
      "File \u001b[1;32m~\\Desktop\\freelancing\\ml_mentoring\\session6\\.env\\Lib\\site-packages\\pandas\\core\\generic.py:11201\u001b[0m, in \u001b[0;36mNDFrame.mean\u001b[1;34m(self, axis, skipna, numeric_only, **kwargs)\u001b[0m\n\u001b[0;32m  11194\u001b[0m \u001b[38;5;28;01mdef\u001b[39;00m \u001b[38;5;21mmean\u001b[39m(\n\u001b[0;32m  11195\u001b[0m     \u001b[38;5;28mself\u001b[39m,\n\u001b[0;32m  11196\u001b[0m     axis: Axis \u001b[38;5;241m|\u001b[39m \u001b[38;5;28;01mNone\u001b[39;00m \u001b[38;5;241m=\u001b[39m \u001b[38;5;241m0\u001b[39m,\n\u001b[1;32m   (...)\u001b[0m\n\u001b[0;32m  11199\u001b[0m     \u001b[38;5;241m*\u001b[39m\u001b[38;5;241m*\u001b[39mkwargs,\n\u001b[0;32m  11200\u001b[0m ) \u001b[38;5;241m-\u001b[39m\u001b[38;5;241m>\u001b[39m Series \u001b[38;5;241m|\u001b[39m \u001b[38;5;28mfloat\u001b[39m:\n\u001b[1;32m> 11201\u001b[0m     \u001b[38;5;28;01mreturn\u001b[39;00m \u001b[38;5;28;43mself\u001b[39;49m\u001b[38;5;241;43m.\u001b[39;49m\u001b[43m_stat_function\u001b[49m\u001b[43m(\u001b[49m\n\u001b[0;32m  11202\u001b[0m \u001b[43m        \u001b[49m\u001b[38;5;124;43m\"\u001b[39;49m\u001b[38;5;124;43mmean\u001b[39;49m\u001b[38;5;124;43m\"\u001b[39;49m\u001b[43m,\u001b[49m\u001b[43m \u001b[49m\u001b[43mnanops\u001b[49m\u001b[38;5;241;43m.\u001b[39;49m\u001b[43mnanmean\u001b[49m\u001b[43m,\u001b[49m\u001b[43m \u001b[49m\u001b[43maxis\u001b[49m\u001b[43m,\u001b[49m\u001b[43m \u001b[49m\u001b[43mskipna\u001b[49m\u001b[43m,\u001b[49m\u001b[43m \u001b[49m\u001b[43mnumeric_only\u001b[49m\u001b[43m,\u001b[49m\u001b[43m \u001b[49m\u001b[38;5;241;43m*\u001b[39;49m\u001b[38;5;241;43m*\u001b[39;49m\u001b[43mkwargs\u001b[49m\n\u001b[0;32m  11203\u001b[0m \u001b[43m    \u001b[49m\u001b[43m)\u001b[49m\n",
      "File \u001b[1;32m~\\Desktop\\freelancing\\ml_mentoring\\session6\\.env\\Lib\\site-packages\\pandas\\core\\generic.py:11158\u001b[0m, in \u001b[0;36mNDFrame._stat_function\u001b[1;34m(self, name, func, axis, skipna, numeric_only, **kwargs)\u001b[0m\n\u001b[0;32m  11154\u001b[0m     nv\u001b[38;5;241m.\u001b[39mvalidate_stat_func((), kwargs, fname\u001b[38;5;241m=\u001b[39mname)\n\u001b[0;32m  11156\u001b[0m validate_bool_kwarg(skipna, \u001b[38;5;124m\"\u001b[39m\u001b[38;5;124mskipna\u001b[39m\u001b[38;5;124m\"\u001b[39m, none_allowed\u001b[38;5;241m=\u001b[39m\u001b[38;5;28;01mFalse\u001b[39;00m)\n\u001b[1;32m> 11158\u001b[0m \u001b[38;5;28;01mreturn\u001b[39;00m \u001b[38;5;28;43mself\u001b[39;49m\u001b[38;5;241;43m.\u001b[39;49m\u001b[43m_reduce\u001b[49m\u001b[43m(\u001b[49m\n\u001b[0;32m  11159\u001b[0m \u001b[43m    \u001b[49m\u001b[43mfunc\u001b[49m\u001b[43m,\u001b[49m\u001b[43m \u001b[49m\u001b[43mname\u001b[49m\u001b[38;5;241;43m=\u001b[39;49m\u001b[43mname\u001b[49m\u001b[43m,\u001b[49m\u001b[43m \u001b[49m\u001b[43maxis\u001b[49m\u001b[38;5;241;43m=\u001b[39;49m\u001b[43maxis\u001b[49m\u001b[43m,\u001b[49m\u001b[43m \u001b[49m\u001b[43mskipna\u001b[49m\u001b[38;5;241;43m=\u001b[39;49m\u001b[43mskipna\u001b[49m\u001b[43m,\u001b[49m\u001b[43m \u001b[49m\u001b[43mnumeric_only\u001b[49m\u001b[38;5;241;43m=\u001b[39;49m\u001b[43mnumeric_only\u001b[49m\n\u001b[0;32m  11160\u001b[0m \u001b[43m\u001b[49m\u001b[43m)\u001b[49m\n",
      "File \u001b[1;32m~\\Desktop\\freelancing\\ml_mentoring\\session6\\.env\\Lib\\site-packages\\pandas\\core\\frame.py:10519\u001b[0m, in \u001b[0;36mDataFrame._reduce\u001b[1;34m(self, op, name, axis, skipna, numeric_only, filter_type, **kwds)\u001b[0m\n\u001b[0;32m  10515\u001b[0m     df \u001b[38;5;241m=\u001b[39m df\u001b[38;5;241m.\u001b[39mT\n\u001b[0;32m  10517\u001b[0m \u001b[38;5;66;03m# After possibly _get_data and transposing, we are now in the\u001b[39;00m\n\u001b[0;32m  10518\u001b[0m \u001b[38;5;66;03m#  simple case where we can use BlockManager.reduce\u001b[39;00m\n\u001b[1;32m> 10519\u001b[0m res \u001b[38;5;241m=\u001b[39m \u001b[43mdf\u001b[49m\u001b[38;5;241;43m.\u001b[39;49m\u001b[43m_mgr\u001b[49m\u001b[38;5;241;43m.\u001b[39;49m\u001b[43mreduce\u001b[49m\u001b[43m(\u001b[49m\u001b[43mblk_func\u001b[49m\u001b[43m)\u001b[49m\n\u001b[0;32m  10520\u001b[0m out \u001b[38;5;241m=\u001b[39m df\u001b[38;5;241m.\u001b[39m_constructor(res)\u001b[38;5;241m.\u001b[39miloc[\u001b[38;5;241m0\u001b[39m]\n\u001b[0;32m  10521\u001b[0m \u001b[38;5;28;01mif\u001b[39;00m out_dtype \u001b[38;5;129;01mis\u001b[39;00m \u001b[38;5;129;01mnot\u001b[39;00m \u001b[38;5;28;01mNone\u001b[39;00m:\n",
      "File \u001b[1;32m~\\Desktop\\freelancing\\ml_mentoring\\session6\\.env\\Lib\\site-packages\\pandas\\core\\internals\\managers.py:1534\u001b[0m, in \u001b[0;36mBlockManager.reduce\u001b[1;34m(self, func)\u001b[0m\n\u001b[0;32m   1532\u001b[0m res_blocks: \u001b[38;5;28mlist\u001b[39m[Block] \u001b[38;5;241m=\u001b[39m []\n\u001b[0;32m   1533\u001b[0m \u001b[38;5;28;01mfor\u001b[39;00m blk \u001b[38;5;129;01min\u001b[39;00m \u001b[38;5;28mself\u001b[39m\u001b[38;5;241m.\u001b[39mblocks:\n\u001b[1;32m-> 1534\u001b[0m     nbs \u001b[38;5;241m=\u001b[39m \u001b[43mblk\u001b[49m\u001b[38;5;241;43m.\u001b[39;49m\u001b[43mreduce\u001b[49m\u001b[43m(\u001b[49m\u001b[43mfunc\u001b[49m\u001b[43m)\u001b[49m\n\u001b[0;32m   1535\u001b[0m     res_blocks\u001b[38;5;241m.\u001b[39mextend(nbs)\n\u001b[0;32m   1537\u001b[0m index \u001b[38;5;241m=\u001b[39m Index([\u001b[38;5;28;01mNone\u001b[39;00m])  \u001b[38;5;66;03m# placeholder\u001b[39;00m\n",
      "File \u001b[1;32m~\\Desktop\\freelancing\\ml_mentoring\\session6\\.env\\Lib\\site-packages\\pandas\\core\\internals\\blocks.py:339\u001b[0m, in \u001b[0;36mBlock.reduce\u001b[1;34m(self, func)\u001b[0m\n\u001b[0;32m    333\u001b[0m \u001b[38;5;129m@final\u001b[39m\n\u001b[0;32m    334\u001b[0m \u001b[38;5;28;01mdef\u001b[39;00m \u001b[38;5;21mreduce\u001b[39m(\u001b[38;5;28mself\u001b[39m, func) \u001b[38;5;241m-\u001b[39m\u001b[38;5;241m>\u001b[39m \u001b[38;5;28mlist\u001b[39m[Block]:\n\u001b[0;32m    335\u001b[0m     \u001b[38;5;66;03m# We will apply the function and reshape the result into a single-row\u001b[39;00m\n\u001b[0;32m    336\u001b[0m     \u001b[38;5;66;03m#  Block with the same mgr_locs; squeezing will be done at a higher level\u001b[39;00m\n\u001b[0;32m    337\u001b[0m     \u001b[38;5;28;01massert\u001b[39;00m \u001b[38;5;28mself\u001b[39m\u001b[38;5;241m.\u001b[39mndim \u001b[38;5;241m==\u001b[39m \u001b[38;5;241m2\u001b[39m\n\u001b[1;32m--> 339\u001b[0m     result \u001b[38;5;241m=\u001b[39m \u001b[43mfunc\u001b[49m\u001b[43m(\u001b[49m\u001b[38;5;28;43mself\u001b[39;49m\u001b[38;5;241;43m.\u001b[39;49m\u001b[43mvalues\u001b[49m\u001b[43m)\u001b[49m\n\u001b[0;32m    341\u001b[0m     \u001b[38;5;28;01mif\u001b[39;00m \u001b[38;5;28mself\u001b[39m\u001b[38;5;241m.\u001b[39mvalues\u001b[38;5;241m.\u001b[39mndim \u001b[38;5;241m==\u001b[39m \u001b[38;5;241m1\u001b[39m:\n\u001b[0;32m    342\u001b[0m         \u001b[38;5;66;03m# TODO(EA2D): special case not needed with 2D EAs\u001b[39;00m\n\u001b[0;32m    343\u001b[0m         res_values \u001b[38;5;241m=\u001b[39m np\u001b[38;5;241m.\u001b[39marray([[result]])\n",
      "File \u001b[1;32m~\\Desktop\\freelancing\\ml_mentoring\\session6\\.env\\Lib\\site-packages\\pandas\\core\\frame.py:10482\u001b[0m, in \u001b[0;36mDataFrame._reduce.<locals>.blk_func\u001b[1;34m(values, axis)\u001b[0m\n\u001b[0;32m  10480\u001b[0m     \u001b[38;5;28;01mreturn\u001b[39;00m values\u001b[38;5;241m.\u001b[39m_reduce(name, skipna\u001b[38;5;241m=\u001b[39mskipna, \u001b[38;5;241m*\u001b[39m\u001b[38;5;241m*\u001b[39mkwds)\n\u001b[0;32m  10481\u001b[0m \u001b[38;5;28;01melse\u001b[39;00m:\n\u001b[1;32m> 10482\u001b[0m     \u001b[38;5;28;01mreturn\u001b[39;00m \u001b[43mop\u001b[49m\u001b[43m(\u001b[49m\u001b[43mvalues\u001b[49m\u001b[43m,\u001b[49m\u001b[43m \u001b[49m\u001b[43maxis\u001b[49m\u001b[38;5;241;43m=\u001b[39;49m\u001b[43maxis\u001b[49m\u001b[43m,\u001b[49m\u001b[43m \u001b[49m\u001b[43mskipna\u001b[49m\u001b[38;5;241;43m=\u001b[39;49m\u001b[43mskipna\u001b[49m\u001b[43m,\u001b[49m\u001b[43m \u001b[49m\u001b[38;5;241;43m*\u001b[39;49m\u001b[38;5;241;43m*\u001b[39;49m\u001b[43mkwds\u001b[49m\u001b[43m)\u001b[49m\n",
      "File \u001b[1;32m~\\Desktop\\freelancing\\ml_mentoring\\session6\\.env\\Lib\\site-packages\\pandas\\core\\nanops.py:96\u001b[0m, in \u001b[0;36mdisallow.__call__.<locals>._f\u001b[1;34m(*args, **kwargs)\u001b[0m\n\u001b[0;32m     94\u001b[0m \u001b[38;5;28;01mtry\u001b[39;00m:\n\u001b[0;32m     95\u001b[0m     \u001b[38;5;28;01mwith\u001b[39;00m np\u001b[38;5;241m.\u001b[39merrstate(invalid\u001b[38;5;241m=\u001b[39m\u001b[38;5;124m\"\u001b[39m\u001b[38;5;124mignore\u001b[39m\u001b[38;5;124m\"\u001b[39m):\n\u001b[1;32m---> 96\u001b[0m         \u001b[38;5;28;01mreturn\u001b[39;00m \u001b[43mf\u001b[49m\u001b[43m(\u001b[49m\u001b[38;5;241;43m*\u001b[39;49m\u001b[43margs\u001b[49m\u001b[43m,\u001b[49m\u001b[43m \u001b[49m\u001b[38;5;241;43m*\u001b[39;49m\u001b[38;5;241;43m*\u001b[39;49m\u001b[43mkwargs\u001b[49m\u001b[43m)\u001b[49m\n\u001b[0;32m     97\u001b[0m \u001b[38;5;28;01mexcept\u001b[39;00m \u001b[38;5;167;01mValueError\u001b[39;00m \u001b[38;5;28;01mas\u001b[39;00m e:\n\u001b[0;32m     98\u001b[0m     \u001b[38;5;66;03m# we want to transform an object array\u001b[39;00m\n\u001b[0;32m     99\u001b[0m     \u001b[38;5;66;03m# ValueError message to the more typical TypeError\u001b[39;00m\n\u001b[0;32m    100\u001b[0m     \u001b[38;5;66;03m# e.g. this is normally a disallowed function on\u001b[39;00m\n\u001b[0;32m    101\u001b[0m     \u001b[38;5;66;03m# object arrays that contain strings\u001b[39;00m\n\u001b[0;32m    102\u001b[0m     \u001b[38;5;28;01mif\u001b[39;00m is_object_dtype(args[\u001b[38;5;241m0\u001b[39m]):\n",
      "File \u001b[1;32m~\\Desktop\\freelancing\\ml_mentoring\\session6\\.env\\Lib\\site-packages\\pandas\\core\\nanops.py:158\u001b[0m, in \u001b[0;36mbottleneck_switch.__call__.<locals>.f\u001b[1;34m(values, axis, skipna, **kwds)\u001b[0m\n\u001b[0;32m    156\u001b[0m         result \u001b[38;5;241m=\u001b[39m alt(values, axis\u001b[38;5;241m=\u001b[39maxis, skipna\u001b[38;5;241m=\u001b[39mskipna, \u001b[38;5;241m*\u001b[39m\u001b[38;5;241m*\u001b[39mkwds)\n\u001b[0;32m    157\u001b[0m \u001b[38;5;28;01melse\u001b[39;00m:\n\u001b[1;32m--> 158\u001b[0m     result \u001b[38;5;241m=\u001b[39m \u001b[43malt\u001b[49m\u001b[43m(\u001b[49m\u001b[43mvalues\u001b[49m\u001b[43m,\u001b[49m\u001b[43m \u001b[49m\u001b[43maxis\u001b[49m\u001b[38;5;241;43m=\u001b[39;49m\u001b[43maxis\u001b[49m\u001b[43m,\u001b[49m\u001b[43m \u001b[49m\u001b[43mskipna\u001b[49m\u001b[38;5;241;43m=\u001b[39;49m\u001b[43mskipna\u001b[49m\u001b[43m,\u001b[49m\u001b[43m \u001b[49m\u001b[38;5;241;43m*\u001b[39;49m\u001b[38;5;241;43m*\u001b[39;49m\u001b[43mkwds\u001b[49m\u001b[43m)\u001b[49m\n\u001b[0;32m    160\u001b[0m \u001b[38;5;28;01mreturn\u001b[39;00m result\n",
      "File \u001b[1;32m~\\Desktop\\freelancing\\ml_mentoring\\session6\\.env\\Lib\\site-packages\\pandas\\core\\nanops.py:421\u001b[0m, in \u001b[0;36m_datetimelike_compat.<locals>.new_func\u001b[1;34m(values, axis, skipna, mask, **kwargs)\u001b[0m\n\u001b[0;32m    418\u001b[0m \u001b[38;5;28;01mif\u001b[39;00m datetimelike \u001b[38;5;129;01mand\u001b[39;00m mask \u001b[38;5;129;01mis\u001b[39;00m \u001b[38;5;28;01mNone\u001b[39;00m:\n\u001b[0;32m    419\u001b[0m     mask \u001b[38;5;241m=\u001b[39m isna(values)\n\u001b[1;32m--> 421\u001b[0m result \u001b[38;5;241m=\u001b[39m \u001b[43mfunc\u001b[49m\u001b[43m(\u001b[49m\u001b[43mvalues\u001b[49m\u001b[43m,\u001b[49m\u001b[43m \u001b[49m\u001b[43maxis\u001b[49m\u001b[38;5;241;43m=\u001b[39;49m\u001b[43maxis\u001b[49m\u001b[43m,\u001b[49m\u001b[43m \u001b[49m\u001b[43mskipna\u001b[49m\u001b[38;5;241;43m=\u001b[39;49m\u001b[43mskipna\u001b[49m\u001b[43m,\u001b[49m\u001b[43m \u001b[49m\u001b[43mmask\u001b[49m\u001b[38;5;241;43m=\u001b[39;49m\u001b[43mmask\u001b[49m\u001b[43m,\u001b[49m\u001b[43m \u001b[49m\u001b[38;5;241;43m*\u001b[39;49m\u001b[38;5;241;43m*\u001b[39;49m\u001b[43mkwargs\u001b[49m\u001b[43m)\u001b[49m\n\u001b[0;32m    423\u001b[0m \u001b[38;5;28;01mif\u001b[39;00m datetimelike:\n\u001b[0;32m    424\u001b[0m     result \u001b[38;5;241m=\u001b[39m _wrap_results(result, orig_values\u001b[38;5;241m.\u001b[39mdtype, fill_value\u001b[38;5;241m=\u001b[39miNaT)\n",
      "File \u001b[1;32m~\\Desktop\\freelancing\\ml_mentoring\\session6\\.env\\Lib\\site-packages\\pandas\\core\\nanops.py:727\u001b[0m, in \u001b[0;36mnanmean\u001b[1;34m(values, axis, skipna, mask)\u001b[0m\n\u001b[0;32m    724\u001b[0m     dtype_count \u001b[38;5;241m=\u001b[39m dtype\n\u001b[0;32m    726\u001b[0m count \u001b[38;5;241m=\u001b[39m _get_counts(values\u001b[38;5;241m.\u001b[39mshape, mask, axis, dtype\u001b[38;5;241m=\u001b[39mdtype_count)\n\u001b[1;32m--> 727\u001b[0m the_sum \u001b[38;5;241m=\u001b[39m \u001b[43m_ensure_numeric\u001b[49m\u001b[43m(\u001b[49m\u001b[43mvalues\u001b[49m\u001b[38;5;241;43m.\u001b[39;49m\u001b[43msum\u001b[49m\u001b[43m(\u001b[49m\u001b[43maxis\u001b[49m\u001b[43m,\u001b[49m\u001b[43m \u001b[49m\u001b[43mdtype\u001b[49m\u001b[38;5;241;43m=\u001b[39;49m\u001b[43mdtype_sum\u001b[49m\u001b[43m)\u001b[49m\u001b[43m)\u001b[49m\n\u001b[0;32m    729\u001b[0m \u001b[38;5;28;01mif\u001b[39;00m axis \u001b[38;5;129;01mis\u001b[39;00m \u001b[38;5;129;01mnot\u001b[39;00m \u001b[38;5;28;01mNone\u001b[39;00m \u001b[38;5;129;01mand\u001b[39;00m \u001b[38;5;28mgetattr\u001b[39m(the_sum, \u001b[38;5;124m\"\u001b[39m\u001b[38;5;124mndim\u001b[39m\u001b[38;5;124m\"\u001b[39m, \u001b[38;5;28;01mFalse\u001b[39;00m):\n\u001b[0;32m    730\u001b[0m     count \u001b[38;5;241m=\u001b[39m cast(np\u001b[38;5;241m.\u001b[39mndarray, count)\n",
      "File \u001b[1;32m~\\Desktop\\freelancing\\ml_mentoring\\session6\\.env\\Lib\\site-packages\\pandas\\core\\nanops.py:1686\u001b[0m, in \u001b[0;36m_ensure_numeric\u001b[1;34m(x)\u001b[0m\n\u001b[0;32m   1683\u001b[0m         x \u001b[38;5;241m=\u001b[39m x\u001b[38;5;241m.\u001b[39mastype(np\u001b[38;5;241m.\u001b[39mfloat64)\n\u001b[0;32m   1684\u001b[0m     \u001b[38;5;28;01mexcept\u001b[39;00m \u001b[38;5;167;01mValueError\u001b[39;00m \u001b[38;5;28;01mas\u001b[39;00m err:\n\u001b[0;32m   1685\u001b[0m         \u001b[38;5;66;03m# GH#29941 we get here with object arrays containing strs\u001b[39;00m\n\u001b[1;32m-> 1686\u001b[0m         \u001b[38;5;28;01mraise\u001b[39;00m \u001b[38;5;167;01mTypeError\u001b[39;00m(\u001b[38;5;124mf\u001b[39m\u001b[38;5;124m\"\u001b[39m\u001b[38;5;124mCould not convert \u001b[39m\u001b[38;5;132;01m{\u001b[39;00mx\u001b[38;5;132;01m}\u001b[39;00m\u001b[38;5;124m to numeric\u001b[39m\u001b[38;5;124m\"\u001b[39m) \u001b[38;5;28;01mfrom\u001b[39;00m \u001b[38;5;21;01merr\u001b[39;00m\n\u001b[0;32m   1687\u001b[0m \u001b[38;5;28;01melse\u001b[39;00m:\n\u001b[0;32m   1688\u001b[0m     \u001b[38;5;28;01mif\u001b[39;00m \u001b[38;5;129;01mnot\u001b[39;00m np\u001b[38;5;241m.\u001b[39many(np\u001b[38;5;241m.\u001b[39mimag(x)):\n",
      "\u001b[1;31mTypeError\u001b[0m: Could not convert ['15-01-202010-03-202220-07-202102-05-201930-01-2023'] to numeric"
     ]
    }
   ],
   "source": [
    "# Replace missing values with the mean of the column\n",
    "data_mean_filled = data.fillna(data.mean())\n",
    "data_mean_filled\n",
    "# Error.. Why?"
   ]
  },
  {
   "cell_type": "code",
   "execution_count": 13,
   "id": "fb6b6a3e-6cc4-4f0b-ae77-1dd268588043",
   "metadata": {},
   "outputs": [
    {
     "data": {
      "text/html": [
       "<div>\n",
       "<style scoped>\n",
       "    .dataframe tbody tr th:only-of-type {\n",
       "        vertical-align: middle;\n",
       "    }\n",
       "\n",
       "    .dataframe tbody tr th {\n",
       "        vertical-align: top;\n",
       "    }\n",
       "\n",
       "    .dataframe thead th {\n",
       "        text-align: right;\n",
       "    }\n",
       "</style>\n",
       "<table border=\"1\" class=\"dataframe\">\n",
       "  <thead>\n",
       "    <tr style=\"text-align: right;\">\n",
       "      <th></th>\n",
       "      <th>Name</th>\n",
       "      <th>Age</th>\n",
       "      <th>Gender</th>\n",
       "      <th>Salary</th>\n",
       "      <th>Join_Date</th>\n",
       "      <th>Description</th>\n",
       "    </tr>\n",
       "  </thead>\n",
       "  <tbody>\n",
       "    <tr>\n",
       "      <th>0</th>\n",
       "      <td>John Doe</td>\n",
       "      <td>25.0</td>\n",
       "      <td>female</td>\n",
       "      <td>50000.0</td>\n",
       "      <td>15-01-2020</td>\n",
       "      <td>data scientist with a background in machine le...</td>\n",
       "    </tr>\n",
       "    <tr>\n",
       "      <th>1</th>\n",
       "      <td>Jane Smith</td>\n",
       "      <td>32.5</td>\n",
       "      <td>female</td>\n",
       "      <td>60000.0</td>\n",
       "      <td>10-03-2022</td>\n",
       "      <td>software engineer passionate about web develop...</td>\n",
       "    </tr>\n",
       "    <tr>\n",
       "      <th>2</th>\n",
       "      <td>Alice Johnson</td>\n",
       "      <td>32.0</td>\n",
       "      <td>female</td>\n",
       "      <td>75000.0</td>\n",
       "      <td>20-07-2021</td>\n",
       "      <td>data scientist with a background in machine le...</td>\n",
       "    </tr>\n",
       "    <tr>\n",
       "      <th>3</th>\n",
       "      <td>Bob Brown</td>\n",
       "      <td>45.0</td>\n",
       "      <td>male</td>\n",
       "      <td>80000.0</td>\n",
       "      <td>02-05-2019</td>\n",
       "      <td>marketing manager with experience in digital m...</td>\n",
       "    </tr>\n",
       "    <tr>\n",
       "      <th>4</th>\n",
       "      <td>Ella Davis</td>\n",
       "      <td>28.0</td>\n",
       "      <td>femule</td>\n",
       "      <td>90000.0</td>\n",
       "      <td>30-01-2023</td>\n",
       "      <td>experienced financial analyst.</td>\n",
       "    </tr>\n",
       "  </tbody>\n",
       "</table>\n",
       "</div>"
      ],
      "text/plain": [
       "            Name   Age  Gender   Salary   Join_Date  \\\n",
       "0       John Doe  25.0  female  50000.0  15-01-2020   \n",
       "1     Jane Smith  32.5  female  60000.0  10-03-2022   \n",
       "2  Alice Johnson  32.0  female  75000.0  20-07-2021   \n",
       "3      Bob Brown  45.0    male  80000.0  02-05-2019   \n",
       "4     Ella Davis  28.0  femule  90000.0  30-01-2023   \n",
       "\n",
       "                                         Description  \n",
       "0  data scientist with a background in machine le...  \n",
       "1  software engineer passionate about web develop...  \n",
       "2  data scientist with a background in machine le...  \n",
       "3  marketing manager with experience in digital m...  \n",
       "4                     experienced financial analyst.  "
      ]
     },
     "execution_count": 13,
     "metadata": {},
     "output_type": "execute_result"
    }
   ],
   "source": [
    "# Impute categorical columns with mode\n",
    "data_imputed = data.copy()\n",
    "data_imputed['Gender'].fillna(data_imputed['Gender'].mode()[0], inplace=True)\n",
    "data_imputed['Description'].fillna(data_imputed['Description'].mode()[0], inplace=True)\n",
    "\n",
    "# Impute numerical columns with mean\n",
    "data_imputed['Age'].fillna(data_imputed['Age'].mean(), inplace=True)\n",
    "\n",
    "data_imputed"
   ]
  },
  {
   "cell_type": "code",
   "execution_count": 14,
   "id": "845055af-1b60-4b39-8085-45c34c2e9b9f",
   "metadata": {},
   "outputs": [
    {
     "data": {
      "text/html": [
       "<div>\n",
       "<style scoped>\n",
       "    .dataframe tbody tr th:only-of-type {\n",
       "        vertical-align: middle;\n",
       "    }\n",
       "\n",
       "    .dataframe tbody tr th {\n",
       "        vertical-align: top;\n",
       "    }\n",
       "\n",
       "    .dataframe thead th {\n",
       "        text-align: right;\n",
       "    }\n",
       "</style>\n",
       "<table border=\"1\" class=\"dataframe\">\n",
       "  <thead>\n",
       "    <tr style=\"text-align: right;\">\n",
       "      <th></th>\n",
       "      <th>Name</th>\n",
       "      <th>Age</th>\n",
       "      <th>Gender</th>\n",
       "      <th>Salary</th>\n",
       "      <th>Join_Date</th>\n",
       "      <th>Description</th>\n",
       "    </tr>\n",
       "  </thead>\n",
       "  <tbody>\n",
       "    <tr>\n",
       "      <th>0</th>\n",
       "      <td>John Doe</td>\n",
       "      <td>25.0</td>\n",
       "      <td>female</td>\n",
       "      <td>50000.0</td>\n",
       "      <td>15-01-2020</td>\n",
       "      <td>data scientist with a background in machine le...</td>\n",
       "    </tr>\n",
       "    <tr>\n",
       "      <th>1</th>\n",
       "      <td>Jane Smith</td>\n",
       "      <td>32.5</td>\n",
       "      <td>female</td>\n",
       "      <td>60000.0</td>\n",
       "      <td>10-03-2022</td>\n",
       "      <td>software engineer passionate about web develop...</td>\n",
       "    </tr>\n",
       "    <tr>\n",
       "      <th>2</th>\n",
       "      <td>Alice Johnson</td>\n",
       "      <td>32.0</td>\n",
       "      <td>female</td>\n",
       "      <td>75000.0</td>\n",
       "      <td>20-07-2021</td>\n",
       "      <td>data scientist with a background in machine le...</td>\n",
       "    </tr>\n",
       "    <tr>\n",
       "      <th>3</th>\n",
       "      <td>Bob Brown</td>\n",
       "      <td>45.0</td>\n",
       "      <td>male</td>\n",
       "      <td>80000.0</td>\n",
       "      <td>02-05-2019</td>\n",
       "      <td>marketing manager with experience in digital m...</td>\n",
       "    </tr>\n",
       "    <tr>\n",
       "      <th>4</th>\n",
       "      <td>Ella Davis</td>\n",
       "      <td>28.0</td>\n",
       "      <td>femule</td>\n",
       "      <td>90000.0</td>\n",
       "      <td>30-01-2023</td>\n",
       "      <td>experienced financial analyst.</td>\n",
       "    </tr>\n",
       "  </tbody>\n",
       "</table>\n",
       "</div>"
      ],
      "text/plain": [
       "            Name   Age  Gender   Salary   Join_Date  \\\n",
       "0       John Doe  25.0  female  50000.0  15-01-2020   \n",
       "1     Jane Smith  32.5  female  60000.0  10-03-2022   \n",
       "2  Alice Johnson  32.0  female  75000.0  20-07-2021   \n",
       "3      Bob Brown  45.0    male  80000.0  02-05-2019   \n",
       "4     Ella Davis  28.0  femule  90000.0  30-01-2023   \n",
       "\n",
       "                                         Description  \n",
       "0  data scientist with a background in machine le...  \n",
       "1  software engineer passionate about web develop...  \n",
       "2  data scientist with a background in machine le...  \n",
       "3  marketing manager with experience in digital m...  \n",
       "4                     experienced financial analyst.  "
      ]
     },
     "execution_count": 14,
     "metadata": {},
     "output_type": "execute_result"
    }
   ],
   "source": [
    "data = data_imputed\n",
    "data"
   ]
  },
  {
   "cell_type": "code",
   "execution_count": null,
   "id": "b9004860-7d00-4dd2-89ae-6ca36e65c72b",
   "metadata": {},
   "outputs": [],
   "source": [
    "!pip install fuzzywuzzy"
   ]
  },
  {
   "cell_type": "code",
   "execution_count": 17,
   "id": "3a73ecf4-c7b3-494b-9761-cda6fe0cebce",
   "metadata": {},
   "outputs": [
    {
     "data": {
      "text/html": [
       "<div>\n",
       "<style scoped>\n",
       "    .dataframe tbody tr th:only-of-type {\n",
       "        vertical-align: middle;\n",
       "    }\n",
       "\n",
       "    .dataframe tbody tr th {\n",
       "        vertical-align: top;\n",
       "    }\n",
       "\n",
       "    .dataframe thead th {\n",
       "        text-align: right;\n",
       "    }\n",
       "</style>\n",
       "<table border=\"1\" class=\"dataframe\">\n",
       "  <thead>\n",
       "    <tr style=\"text-align: right;\">\n",
       "      <th></th>\n",
       "      <th>Name</th>\n",
       "      <th>Age</th>\n",
       "      <th>Gender</th>\n",
       "      <th>Salary</th>\n",
       "      <th>Join_Date</th>\n",
       "      <th>Description</th>\n",
       "    </tr>\n",
       "  </thead>\n",
       "  <tbody>\n",
       "    <tr>\n",
       "      <th>0</th>\n",
       "      <td>John Doe</td>\n",
       "      <td>25.0</td>\n",
       "      <td>female</td>\n",
       "      <td>50000.0</td>\n",
       "      <td>15-01-2020</td>\n",
       "      <td>data scientist with a background in machine le...</td>\n",
       "    </tr>\n",
       "    <tr>\n",
       "      <th>1</th>\n",
       "      <td>Jane Smith</td>\n",
       "      <td>32.5</td>\n",
       "      <td>female</td>\n",
       "      <td>60000.0</td>\n",
       "      <td>10-03-2022</td>\n",
       "      <td>software engineer passionate about web develop...</td>\n",
       "    </tr>\n",
       "    <tr>\n",
       "      <th>2</th>\n",
       "      <td>Alice Johnson</td>\n",
       "      <td>32.0</td>\n",
       "      <td>female</td>\n",
       "      <td>75000.0</td>\n",
       "      <td>20-07-2021</td>\n",
       "      <td>data scientist with a background in machine le...</td>\n",
       "    </tr>\n",
       "    <tr>\n",
       "      <th>3</th>\n",
       "      <td>Bob Brown</td>\n",
       "      <td>45.0</td>\n",
       "      <td>male</td>\n",
       "      <td>80000.0</td>\n",
       "      <td>02-05-2019</td>\n",
       "      <td>marketing manager with experience in digital m...</td>\n",
       "    </tr>\n",
       "    <tr>\n",
       "      <th>4</th>\n",
       "      <td>Ella Davis</td>\n",
       "      <td>28.0</td>\n",
       "      <td>female</td>\n",
       "      <td>90000.0</td>\n",
       "      <td>30-01-2023</td>\n",
       "      <td>experienced financial analyst.</td>\n",
       "    </tr>\n",
       "  </tbody>\n",
       "</table>\n",
       "</div>"
      ],
      "text/plain": [
       "            Name   Age  Gender   Salary   Join_Date  \\\n",
       "0       John Doe  25.0  female  50000.0  15-01-2020   \n",
       "1     Jane Smith  32.5  female  60000.0  10-03-2022   \n",
       "2  Alice Johnson  32.0  female  75000.0  20-07-2021   \n",
       "3      Bob Brown  45.0    male  80000.0  02-05-2019   \n",
       "4     Ella Davis  28.0  female  90000.0  30-01-2023   \n",
       "\n",
       "                                         Description  \n",
       "0  data scientist with a background in machine le...  \n",
       "1  software engineer passionate about web develop...  \n",
       "2  data scientist with a background in machine le...  \n",
       "3  marketing manager with experience in digital m...  \n",
       "4                     experienced financial analyst.  "
      ]
     },
     "execution_count": 17,
     "metadata": {},
     "output_type": "execute_result"
    }
   ],
   "source": [
    "# fix typing errors\n",
    "from fuzzywuzzy import fuzz\n",
    "\n",
    "\n",
    "def correct_typos(word, word_list):\n",
    "    best_match = max(word_list, key=lambda x: fuzz.ratio(word, x))\n",
    "    return best_match\n",
    "\n",
    "list_of_possible_gender = [\"male\", \"female\"]\n",
    "# Apply the function to the column\n",
    "data['Gender'] = data['Gender'].apply(lambda x: correct_typos(x, list_of_possible_gender))\n",
    "data"
   ]
  },
  {
   "cell_type": "code",
   "execution_count": 15,
   "id": "37157af9-6667-4cfe-8d66-63b33fbec78f",
   "metadata": {},
   "outputs": [
    {
     "name": "stderr",
     "output_type": "stream",
     "text": [
      "C:\\Users\\purne\\Desktop\\freelancing\\ml_mentoring\\session6\\.env\\Lib\\site-packages\\fuzzywuzzy\\fuzz.py:11: UserWarning: Using slow pure-python SequenceMatcher. Install python-Levenshtein to remove this warning\n",
      "  warnings.warn('Using slow pure-python SequenceMatcher. Install python-Levenshtein to remove this warning')\n"
     ]
    },
    {
     "data": {
      "text/plain": [
       "83"
      ]
     },
     "execution_count": 15,
     "metadata": {},
     "output_type": "execute_result"
    }
   ],
   "source": [
    "from fuzzywuzzy import fuzz\n",
    "fuzz.ratio(\"femule\", \"female\")"
   ]
  },
  {
   "cell_type": "code",
   "execution_count": 16,
   "id": "c56cd43d-b5ff-4cf6-b0b2-a30a937e3873",
   "metadata": {},
   "outputs": [
    {
     "data": {
      "text/plain": [
       "60"
      ]
     },
     "execution_count": 16,
     "metadata": {},
     "output_type": "execute_result"
    }
   ],
   "source": [
    "fuzz.ratio(\"femule\", \"male\")"
   ]
  },
  {
   "cell_type": "code",
   "execution_count": null,
   "id": "09d3cdde-3501-494b-8111-1e50bf7362c1",
   "metadata": {},
   "outputs": [],
   "source": []
  }
 ],
 "metadata": {
  "kernelspec": {
   "display_name": "Python 3 (ipykernel)",
   "language": "python",
   "name": "python3"
  },
  "language_info": {
   "codemirror_mode": {
    "name": "ipython",
    "version": 3
   },
   "file_extension": ".py",
   "mimetype": "text/x-python",
   "name": "python",
   "nbconvert_exporter": "python",
   "pygments_lexer": "ipython3",
   "version": "3.11.1"
  }
 },
 "nbformat": 4,
 "nbformat_minor": 5
}
