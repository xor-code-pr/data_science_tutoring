{
 "cells": [
  {
   "cell_type": "markdown",
   "id": "36a4d450-690a-4c6e-964f-954ee8cc7791",
   "metadata": {},
   "source": [
    "## Feature Engineering - Part 1"
   ]
  },
  {
   "cell_type": "markdown",
   "id": "d01edac6-f422-483d-b000-195ad586a97b",
   "metadata": {},
   "source": [
    "#### WHY? \n",
    "- High-dimensional datasets with numerous features can lead to overfitting, where a model learns noise from the data rather than the true underlying patterns. By reducing the number of features, you can mitigate overfitting and improve the generalization performance of your model on unseen data."
   ]
  },
  {
   "cell_type": "code",
   "execution_count": 1,
   "id": "81380a1e-edd6-4992-9317-f9fd7742f70e",
   "metadata": {},
   "outputs": [],
   "source": [
    "# f1, f2,f3,f4 t1\n",
    "f1 - t1  - 0.8 best 0 bad\n",
    "f2 - t1  - -0.7 good 0.5 good\n",
    "f3- t1 - 0.2 okay 0.7 best\n",
    "f4 -t1 - 0 bad 0.2 okay\n",
    "positive cor\n",
    "negative cor\n",
    "a - b\n",
    "positive\n",
    "a increase b also increases \n",
    "neagtive \n",
    "a increase b decreases\n",
    "\n",
    "-1 to +1\n",
    "-1 most neagtive\n",
    "+ 1 is most postive \n",
    "0 means no correlation\n",
    "\n",
    "a -b\n",
    "0 1 "
   ]
  },
  {
   "cell_type": "markdown",
   "id": "47812f19-e983-4b94-865a-0ce6149e875f",
   "metadata": {},
   "source": [
    "#### Matual Information based Filter Method\n",
    "- The Breast Cancer dataset contains binary classification tasks with features of different types (continuous, discrete). Mutual information is suitable for capturing relationships between mixed-type features and target classes."
   ]
  },
  {
   "cell_type": "code",
   "execution_count": 30,
   "id": "0a73bd9f-aef8-4c61-8dd7-b43ac0eac5a1",
   "metadata": {},
   "outputs": [
    {
     "name": "stdout",
     "output_type": "stream",
     "text": [
      "(569, 30)\n",
      "(569,)\n",
      "['mean radius' 'mean texture' 'mean perimeter' 'mean area'\n",
      " 'mean smoothness' 'mean compactness' 'mean concavity'\n",
      " 'mean concave points' 'mean symmetry' 'mean fractal dimension'\n",
      " 'radius error' 'texture error' 'perimeter error' 'area error'\n",
      " 'smoothness error' 'compactness error' 'concavity error'\n",
      " 'concave points error' 'symmetry error' 'fractal dimension error'\n",
      " 'worst radius' 'worst texture' 'worst perimeter' 'worst area'\n",
      " 'worst smoothness' 'worst compactness' 'worst concavity'\n",
      " 'worst concave points' 'worst symmetry' 'worst fractal dimension']\n"
     ]
    },
    {
     "data": {
      "text/plain": [
       "array([0, 0, 0, 0, 0, 0, 0, 0, 0, 0, 0, 0, 0, 0, 0, 0, 0, 0, 0, 1, 1, 1,\n",
       "       0, 0, 0, 0, 0, 0, 0, 0, 0, 0, 0, 0, 0, 0, 0, 1, 0, 0, 0, 0, 0, 0,\n",
       "       0, 0, 1, 0, 1, 1, 1, 1, 1, 0, 0, 1, 0, 0, 1, 1, 1, 1, 0, 1, 0, 0,\n",
       "       1, 1, 1, 1, 0, 1, 0, 0, 1, 0, 1, 0, 0, 1, 1, 1, 0, 0, 1, 0, 0, 0,\n",
       "       1, 1, 1, 0, 1, 1, 0, 0, 1, 1, 1, 0, 0, 1, 1, 1, 1, 0, 1, 1, 0, 1,\n",
       "       1, 1, 1, 1, 1, 1, 1, 0, 0, 0, 1, 0, 0, 1, 1, 1, 0, 0, 1, 0, 1, 0,\n",
       "       0, 1, 0, 0, 1, 1, 0, 1, 1, 0, 1, 1, 1, 1, 0, 1, 1, 1, 1, 1, 1, 1,\n",
       "       1, 1, 0, 1, 1, 1, 1, 0, 0, 1, 0, 1, 1, 0, 0, 1, 1, 0, 0, 1, 1, 1,\n",
       "       1, 0, 1, 1, 0, 0, 0, 1, 0, 1, 0, 1, 1, 1, 0, 1, 1, 0, 0, 1, 0, 0,\n",
       "       0, 0, 1, 0, 0, 0, 1, 0, 1, 0, 1, 1, 0, 1, 0, 0, 0, 0, 1, 1, 0, 0,\n",
       "       1, 1, 1, 0, 1, 1, 1, 1, 1, 0, 0, 1, 1, 0, 1, 1, 0, 0, 1, 0, 1, 1,\n",
       "       1, 1, 0, 1, 1, 1, 1, 1, 0, 1, 0, 0, 0, 0, 0, 0, 0, 0, 0, 0, 0, 0,\n",
       "       0, 0, 1, 1, 1, 1, 1, 1, 0, 1, 0, 1, 1, 0, 1, 1, 0, 1, 0, 0, 1, 1,\n",
       "       1, 1, 1, 1, 1, 1, 1, 1, 1, 1, 1, 0, 1, 1, 0, 1, 0, 1, 1, 1, 1, 1,\n",
       "       1, 1, 1, 1, 1, 1, 1, 1, 1, 0, 1, 1, 1, 0, 1, 0, 1, 1, 1, 1, 0, 0,\n",
       "       0, 1, 1, 1, 1, 0, 1, 0, 1, 0, 1, 1, 1, 0, 1, 1, 1, 1, 1, 1, 1, 0,\n",
       "       0, 0, 1, 1, 1, 1, 1, 1, 1, 1, 1, 1, 1, 0, 0, 1, 0, 0, 0, 1, 0, 0,\n",
       "       1, 1, 1, 1, 1, 0, 1, 1, 1, 1, 1, 0, 1, 1, 1, 0, 1, 1, 0, 0, 1, 1,\n",
       "       1, 1, 1, 1, 0, 1, 1, 1, 1, 1, 1, 1, 0, 1, 1, 1, 1, 1, 0, 1, 1, 0,\n",
       "       1, 1, 1, 1, 1, 1, 1, 1, 1, 1, 1, 1, 0, 1, 0, 0, 1, 0, 1, 1, 1, 1,\n",
       "       1, 0, 1, 1, 0, 1, 0, 1, 1, 0, 1, 0, 1, 1, 1, 1, 1, 1, 1, 1, 0, 0,\n",
       "       1, 1, 1, 1, 1, 1, 0, 1, 1, 1, 1, 1, 1, 1, 1, 1, 1, 0, 1, 1, 1, 1,\n",
       "       1, 1, 1, 0, 1, 0, 1, 1, 0, 1, 1, 1, 1, 1, 0, 0, 1, 0, 1, 0, 1, 1,\n",
       "       1, 1, 1, 0, 1, 1, 0, 1, 0, 1, 0, 0, 1, 1, 1, 0, 1, 1, 1, 1, 1, 1,\n",
       "       1, 1, 1, 1, 1, 0, 1, 0, 0, 1, 1, 1, 1, 1, 1, 1, 1, 1, 1, 1, 1, 1,\n",
       "       1, 1, 1, 1, 1, 1, 1, 1, 1, 1, 1, 1, 0, 0, 0, 0, 0, 0, 1])"
      ]
     },
     "execution_count": 30,
     "metadata": {},
     "output_type": "execute_result"
    }
   ],
   "source": [
    "from sklearn.datasets import load_breast_cancer\n",
    "# Load the Breast Cancer dataset\n",
    "data = load_breast_cancer()\n",
    "X, y = data.data, data.target\n",
    "print(X.shape)\n",
    "print(y.shape)\n",
    "print(data.feature_names)\n",
    "y"
   ]
  },
  {
   "cell_type": "code",
   "execution_count": 31,
   "id": "ff9dbdc6-ed7a-45ab-ba76-e222add621d7",
   "metadata": {},
   "outputs": [
    {
     "name": "stdout",
     "output_type": "stream",
     "text": [
      "Feature: worst perimeter, MI Score: 0.4779\n",
      "Feature: worst area, MI Score: 0.4643\n",
      "Feature: worst radius, MI Score: 0.4559\n",
      "Feature: mean concave points, MI Score: 0.4427\n",
      "Feature: worst concave points, MI Score: 0.4394\n",
      "Feature: mean perimeter, MI Score: 0.4014\n",
      "Feature: mean concavity, MI Score: 0.3750\n",
      "Feature: mean radius, MI Score: 0.3660\n",
      "Feature: mean area, MI Score: 0.3588\n",
      "Feature: area error, MI Score: 0.3406\n",
      "Feature: worst concavity, MI Score: 0.3161\n",
      "Feature: perimeter error, MI Score: 0.2782\n",
      "Feature: radius error, MI Score: 0.2470\n",
      "Feature: worst compactness, MI Score: 0.2250\n",
      "Feature: mean compactness, MI Score: 0.2150\n",
      "Feature: concave points error, MI Score: 0.1251\n",
      "Feature: worst texture, MI Score: 0.1198\n",
      "Feature: concavity error, MI Score: 0.1184\n",
      "Feature: mean texture, MI Score: 0.1019\n",
      "Feature: worst smoothness, MI Score: 0.1009\n",
      "Feature: worst symmetry, MI Score: 0.0996\n",
      "Feature: mean smoothness, MI Score: 0.0857\n",
      "Feature: compactness error, MI Score: 0.0756\n",
      "Feature: worst fractal dimension, MI Score: 0.0659\n",
      "Feature: mean symmetry, MI Score: 0.0641\n",
      "Feature: fractal dimension error, MI Score: 0.0394\n",
      "Feature: smoothness error, MI Score: 0.0135\n",
      "Feature: mean fractal dimension, MI Score: 0.0119\n",
      "Feature: symmetry error, MI Score: 0.0115\n",
      "Feature: texture error, MI Score: 0.0000\n"
     ]
    }
   ],
   "source": [
    "from sklearn.feature_selection import mutual_info_classif\n",
    "\n",
    "# Calculate mutual information scores for each feature\n",
    "mi_scores = mutual_info_classif(X, y)\n",
    "# Sort features by mutual information scores\n",
    "sorted_indices = mi_scores.argsort()[::-1]\n",
    "\n",
    "\n",
    "# Print the top k feature names and their mutual information scores\n",
    "for idx in sorted_indices:\n",
    "    print(f\"Feature: {data.feature_names[idx]}, MI Score: {mi_scores[idx]:.4f}\")"
   ]
  },
  {
   "cell_type": "code",
   "execution_count": 35,
   "id": "515057e5-c81f-49ad-b0ed-abd4e5be5c39",
   "metadata": {},
   "outputs": [
    {
     "name": "stdout",
     "output_type": "stream",
     "text": [
      "(569, 5)\n"
     ]
    }
   ],
   "source": [
    "from sklearn.datasets import load_breast_cancer\n",
    "from sklearn.feature_selection import SelectKBest, mutual_info_classif\n",
    "\n",
    "# Load the Breast Cancer dataset\n",
    "data = load_breast_cancer()\n",
    "X, y = data.data, data.target\n",
    "top_n =5\n",
    "# Use mutual information for feature selection\n",
    "selector = SelectKBest(score_func=mutual_info_classif, k=top_n)\n",
    "X_filtered = selector.fit_transform(X, y)\n",
    "print(X_filtered.shape)"
   ]
  },
  {
   "cell_type": "code",
   "execution_count": 36,
   "id": "cf5a84ce-c36c-456c-9dd2-5f9456e0bc61",
   "metadata": {},
   "outputs": [
    {
     "name": "stdout",
     "output_type": "stream",
     "text": [
      "Feature: worst perimeter, MI Score: 0.4779\n",
      "Feature: worst area, MI Score: 0.4643\n",
      "Feature: worst radius, MI Score: 0.4559\n",
      "Feature: mean concave points, MI Score: 0.4427\n",
      "Feature: worst concave points, MI Score: 0.4394\n"
     ]
    }
   ],
   "source": [
    "sorted_indices =selector.scores_.argsort()[::-1]\n",
    "for idx in sorted_indices[:top_n]:\n",
    "    print(f\"Feature: {data.feature_names[idx]}, MI Score: {mi_scores[idx]:.4f}\")"
   ]
  },
  {
   "cell_type": "markdown",
   "id": "f34f2236-5525-4c70-bb47-68f4114041aa",
   "metadata": {},
   "source": [
    "#### Wrapper Method\n",
    "- The Diabetes dataset involves predicting a continuous target variable. RFE, which recursively removes less important features, can be beneficial when the target variable is continuous and the model aims for predictive accuracy."
   ]
  },
  {
   "cell_type": "code",
   "execution_count": 20,
   "id": "669f233f-daaf-4814-9a9d-da60b8fbb035",
   "metadata": {},
   "outputs": [
    {
     "name": "stdout",
     "output_type": "stream",
     "text": [
      "(442, 10)\n",
      "(442,)\n",
      "['age', 'sex', 'bmi', 'bp', 's1', 's2', 's3', 's4', 's5', 's6']\n",
      "[151.  75. 141. 206. 135.  97. 138.  63. 110. 310. 101.  69. 179. 185.\n",
      " 118. 171. 166. 144.  97. 168.  68.  49.  68. 245. 184. 202. 137.  85.\n",
      " 131. 283. 129.  59. 341.  87.  65. 102. 265. 276. 252.  90. 100.  55.\n",
      "  61.  92. 259.  53. 190. 142.  75. 142. 155. 225.  59. 104. 182. 128.\n",
      "  52.  37. 170. 170.  61. 144.  52. 128.  71. 163. 150.  97. 160. 178.\n",
      "  48. 270. 202. 111.  85.  42. 170. 200. 252. 113. 143.  51.  52. 210.\n",
      "  65. 141.  55. 134.  42. 111.  98. 164.  48.  96.  90. 162. 150. 279.\n",
      "  92.  83. 128. 102. 302. 198.  95.  53. 134. 144. 232.  81. 104.  59.\n",
      " 246. 297. 258. 229. 275. 281. 179. 200. 200. 173. 180.  84. 121. 161.\n",
      "  99. 109. 115. 268. 274. 158. 107.  83. 103. 272.  85. 280. 336. 281.\n",
      " 118. 317. 235.  60. 174. 259. 178. 128.  96. 126. 288.  88. 292.  71.\n",
      " 197. 186.  25.  84.  96. 195.  53. 217. 172. 131. 214.  59.  70. 220.\n",
      " 268. 152.  47.  74. 295. 101. 151. 127. 237. 225.  81. 151. 107.  64.\n",
      " 138. 185. 265. 101. 137. 143. 141.  79. 292. 178.  91. 116.  86. 122.\n",
      "  72. 129. 142.  90. 158.  39. 196. 222. 277.  99. 196. 202. 155.  77.\n",
      " 191.  70.  73.  49.  65. 263. 248. 296. 214. 185.  78.  93. 252. 150.\n",
      "  77. 208.  77. 108. 160.  53. 220. 154. 259.  90. 246. 124.  67.  72.\n",
      " 257. 262. 275. 177.  71.  47. 187. 125.  78.  51. 258. 215. 303. 243.\n",
      "  91. 150. 310. 153. 346.  63.  89.  50.  39. 103. 308. 116. 145.  74.\n",
      "  45. 115. 264.  87. 202. 127. 182. 241.  66.  94. 283.  64. 102. 200.\n",
      " 265.  94. 230. 181. 156. 233.  60. 219.  80.  68. 332. 248.  84. 200.\n",
      "  55.  85.  89.  31. 129.  83. 275.  65. 198. 236. 253. 124.  44. 172.\n",
      " 114. 142. 109. 180. 144. 163. 147.  97. 220. 190. 109. 191. 122. 230.\n",
      " 242. 248. 249. 192. 131. 237.  78. 135. 244. 199. 270. 164.  72.  96.\n",
      " 306.  91. 214.  95. 216. 263. 178. 113. 200. 139. 139.  88. 148.  88.\n",
      " 243.  71.  77. 109. 272.  60.  54. 221.  90. 311. 281. 182. 321.  58.\n",
      " 262. 206. 233. 242. 123. 167.  63. 197.  71. 168. 140. 217. 121. 235.\n",
      " 245.  40.  52. 104. 132.  88.  69. 219.  72. 201. 110.  51. 277.  63.\n",
      " 118.  69. 273. 258.  43. 198. 242. 232. 175.  93. 168. 275. 293. 281.\n",
      "  72. 140. 189. 181. 209. 136. 261. 113. 131. 174. 257.  55.  84.  42.\n",
      " 146. 212. 233.  91. 111. 152. 120.  67. 310.  94. 183.  66. 173.  72.\n",
      "  49.  64.  48. 178. 104. 132. 220.  57.]\n"
     ]
    }
   ],
   "source": [
    "from sklearn.datasets import load_diabetes\n",
    "data = load_diabetes()\n",
    "X, y = data.data, data.target\n",
    "print(X.shape)\n",
    "print(y.shape)\n",
    "print(data.feature_names)\n",
    "print(y)"
   ]
  },
  {
   "cell_type": "code",
   "execution_count": 21,
   "id": "bf88bc0e-9eba-49c3-93f2-fd18e3304b05",
   "metadata": {},
   "outputs": [
    {
     "name": "stdout",
     "output_type": "stream",
     "text": [
      "(442, 4)\n"
     ]
    }
   ],
   "source": [
    "from sklearn.feature_selection import RFE\n",
    "from sklearn.linear_model import LinearRegression\n",
    "\n",
    "# 10 - 0.7\n",
    "# 9 - 0.8\n",
    "# 7 - 0.85\n",
    "# 6 - 0.9\n",
    "# 4 -0.75\n",
    "# 5 - 0.88\n",
    "# best is 6\n",
    "\n",
    "\n",
    "# Use RFE for feature selection\n",
    "model = LinearRegression()\n",
    "rfe = RFE(model, n_features_to_select=4)\n",
    "X_rfe = rfe.fit_transform(X, y)\n",
    "print(X_rfe.shape)"
   ]
  },
  {
   "cell_type": "code",
   "execution_count": 25,
   "id": "2771c289-30b0-47a9-a63c-dd6bf3fb25d4",
   "metadata": {},
   "outputs": [
    {
     "name": "stdout",
     "output_type": "stream",
     "text": [
      "0\n",
      "False\n",
      "1\n",
      "False\n",
      "2\n",
      "True\n",
      "3\n",
      "False\n",
      "4\n",
      "True\n",
      "5\n",
      "True\n",
      "6\n",
      "False\n",
      "7\n",
      "False\n",
      "8\n",
      "True\n",
      "9\n",
      "False\n"
     ]
    }
   ],
   "source": [
    "# for i,j in enumerate(rfe.support_):\n",
    "#     print(i)\n",
    "#     print(j)"
   ]
  },
  {
   "cell_type": "code",
   "execution_count": 26,
   "id": "171fc3b8-39cb-4510-8013-58b1c51a2210",
   "metadata": {},
   "outputs": [
    {
     "name": "stdout",
     "output_type": "stream",
     "text": [
      "Names of selected features: ['bmi', 's1', 's2', 's5']\n"
     ]
    }
   ],
   "source": [
    "selected_features_mask  = rfe.support_\n",
    "\n",
    "selected_feature_names = [data.feature_names[idx] for idx, selected in enumerate(selected_features_mask) if selected]\n",
    "print(\"Names of selected features:\", selected_feature_names)"
   ]
  },
  {
   "cell_type": "markdown",
   "id": "d83b9edc-46ca-4ea1-8c36-3831e5cbaab5",
   "metadata": {},
   "source": [
    "#### Dimensionality Reduction\n",
    "- The Digits dataset is a classic example for image classification. Using PCA can be effective for reducing the high dimensionality of pixel values while retaining the most significant information."
   ]
  },
  {
   "cell_type": "code",
   "execution_count": null,
   "id": "7af4cc38-00a8-43d4-8a57-d70c43426692",
   "metadata": {},
   "outputs": [],
   "source": [
    "from sklearn.datasets import load_digits\n",
    "data = load_digits()\n",
    "X, y = data.data, data.target\n",
    "print(X.shape)\n",
    "print(y.shape)\n",
    "print(data.feature_names)\n",
    "print(y)"
   ]
  },
  {
   "cell_type": "code",
   "execution_count": null,
   "id": "96d72044-a4f5-4744-a686-79499f137a2a",
   "metadata": {},
   "outputs": [],
   "source": [
    "from sklearn.decomposition import PCA\n",
    "\n",
    "# Use PCA for dimensionality reduction\n",
    "num_components = 64\n",
    "pca = PCA(n_components=num_components)\n",
    "X_pca = pca.fit_transform(X)\n"
   ]
  },
  {
   "cell_type": "code",
   "execution_count": null,
   "id": "f74b5347-3b62-4813-9107-bc5f092a57ce",
   "metadata": {},
   "outputs": [],
   "source": [
    "print(pca.explained_variance_ratio_)"
   ]
  },
  {
   "cell_type": "code",
   "execution_count": null,
   "id": "9e8e09b2-efb7-42da-9dee-7fa46c72b4d5",
   "metadata": {},
   "outputs": [],
   "source": [
    "num_components = 3\n",
    "pca = PCA(n_components=num_components)\n",
    "X_pca = pca.fit_transform(X)\n",
    "X_pca.shape"
   ]
  },
  {
   "cell_type": "code",
   "execution_count": null,
   "id": "7e058944-f7dd-4b81-b134-b54722064f22",
   "metadata": {},
   "outputs": [],
   "source": [
    "print(pca.explained_variance_ratio_)"
   ]
  }
 ],
 "metadata": {
  "kernelspec": {
   "display_name": "Python 3 (ipykernel)",
   "language": "python",
   "name": "python3"
  },
  "language_info": {
   "codemirror_mode": {
    "name": "ipython",
    "version": 3
   },
   "file_extension": ".py",
   "mimetype": "text/x-python",
   "name": "python",
   "nbconvert_exporter": "python",
   "pygments_lexer": "ipython3",
   "version": "3.11.1"
  }
 },
 "nbformat": 4,
 "nbformat_minor": 5
}
